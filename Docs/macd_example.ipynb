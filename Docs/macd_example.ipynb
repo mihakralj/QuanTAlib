{
 "cells": [
  {
   "cell_type": "code",
   "execution_count": null,
   "metadata": {
    "dotnet_interactive": {
     "language": "csharp"
    },
    "vscode": {
     "languageId": "dotnet-interactive.csharp"
    }
   },
   "outputs": [
    {
     "data": {
      "text/html": [
       "<div><div></div><div></div><div><strong>Installed Packages</strong><ul><li><span>Plotly.NET, 2.0.0-preview.18</span></li><li><span>Plotly.NET.Interactive, 2.0.0-preview.18</span></li><li><span>QuantLib, 1.0.5</span></li></ul></div></div>"
      ]
     },
     "metadata": {},
     "output_type": "display_data"
    },
    {
     "data": {
      "text/markdown": [
       "Loading extensions from `Plotly.NET.Interactive.dll`"
      ]
     },
     "metadata": {},
     "output_type": "display_data"
    }
   ],
   "source": [
    "#r \"nuget:YahooFinanceApi;\" \n",
    "#r \"nuget: Plotly.NET, 2.0.0-preview.18\"\n",
    "#r \"nuget: Plotly.NET.Interactive, 2.0.0-preview.18\"\n",
    "#r \"nuget: QuantLib\"\n",
    "\n",
    "using YahooFinanceApi;\n",
    "using Plotly.NET;\n",
    "using Plotly.NET.LayoutObjects;\n",
    "using QuantLib;"
   ]
  },
  {
   "cell_type": "code",
   "execution_count": null,
   "metadata": {
    "dotnet_interactive": {
     "language": "csharp"
    },
    "vscode": {
     "languageId": "dotnet-interactive.csharp"
    }
   },
   "outputs": [
    {
     "ename": "Error",
     "evalue": "System.ArgumentOutOfRangeException: Index was out of range. Must be non-negative and less than the size of the collection. (Parameter 'index')\r\n   at QuantLib.SUB_Series.Add(Boolean update) in D:\\a\\QuantLib\\QuantLib\\Algos\\SUB_Series.cs:line 78\r\n   at QuantLib.EMA_Series.Add(ValueTuple`2 data, Boolean update) in D:\\a\\QuantLib\\QuantLib\\Algos\\EMA_Series.cs:line 46\r\n   at QuantLib.EMA_Series.Sub(Object source, TSeriesEventArgs e) in D:\\a\\QuantLib\\QuantLib\\Algos\\EMA_Series.cs:line 66\r\n   at QuantLib.TSeries.Add(ValueTuple`2 TValue, Boolean update) in D:\\a\\QuantLib\\QuantLib\\Algos\\TSeries.cs:line 25\r\n   at Submission#10.<<Initialize>>d__0.MoveNext()\r\n--- End of stack trace from previous location ---\r\n   at Microsoft.CodeAnalysis.Scripting.ScriptExecutionState.RunSubmissionsAsync[TResult](ImmutableArray`1 precedingExecutors, Func`2 currentExecutor, StrongBox`1 exceptionHolderOpt, Func`2 catchExceptionOpt, CancellationToken cancellationToken)",
     "output_type": "error",
     "traceback": [
      "System.ArgumentOutOfRangeException: Index was out of range. Must be non-negative and less than the size of the collection. (Parameter 'index')\r\n",
      "   at QuantLib.SUB_Series.Add(Boolean update) in D:\\a\\QuantLib\\QuantLib\\Algos\\SUB_Series.cs:line 78\r\n",
      "   at QuantLib.EMA_Series.Add(ValueTuple`2 data, Boolean update) in D:\\a\\QuantLib\\QuantLib\\Algos\\EMA_Series.cs:line 46\r\n",
      "   at QuantLib.EMA_Series.Sub(Object source, TSeriesEventArgs e) in D:\\a\\QuantLib\\QuantLib\\Algos\\EMA_Series.cs:line 66\r\n",
      "   at QuantLib.TSeries.Add(ValueTuple`2 TValue, Boolean update) in D:\\a\\QuantLib\\QuantLib\\Algos\\TSeries.cs:line 25\r\n",
      "   at Submission#10.<<Initialize>>d__0.MoveNext()\r\n",
      "--- End of stack trace from previous location ---\r\n",
      "   at Microsoft.CodeAnalysis.Scripting.ScriptExecutionState.RunSubmissionsAsync[TResult](ImmutableArray`1 precedingExecutors, Func`2 currentExecutor, StrongBox`1 exceptionHolderOpt, Func`2 catchExceptionOpt, CancellationToken cancellationToken)"
     ]
    }
   ],
   "source": [
    "// defining the MACD model:\n",
    "TSeries close = new();                      // close will get data from history\n",
    "EMA_Series slow = new(close,26);            // slow gets data from slow through pub-sub eventing\n",
    "EMA_Series fast = new(close,12);            // fast gets data from slow (via eventing)\n",
    "SUB_Series macd = new(fast,slow);           // macd is a SUBtraction: fast-slow\n",
    "EMA_Series signal = new(macd,9);            // signal is EMA of macd\n",
    "SUB_Series histogram = new(macd, signal);   // histogran is SUBtraction macd-signal\n",
    "\n",
    "// running the loop and feeding close from stock history\n",
    "var history = await Yahoo.GetHistoricalAsync(\"TSLA\", DateTime.Today.AddDays(-1000), DateTime.Now, Period.Daily);\n",
    "foreach (var i in history) close.Add((i.DateTime,  (double)i.Close));\n",
    "\n",
    "slow.Count"
   ]
  },
  {
   "cell_type": "code",
   "execution_count": null,
   "metadata": {
    "dotnet_interactive": {
     "language": "csharp"
    },
    "vscode": {
     "languageId": "dotnet-interactive.csharp"
    }
   },
   "outputs": [
    {
     "ename": "Error",
     "evalue": "(2,74): error CS0103: The name 'signal' does not exist in the current context\r\n(2,83): error CS0103: The name 'signal' does not exist in the current context",
     "output_type": "error",
     "traceback": [
      "(2,74): error CS0103: The name 'signal' does not exist in the current context\r\n",
      "(2,83): error CS0103: The name 'signal' does not exist in the current context"
     ]
    }
   ],
   "source": [
    "GenericChart.GenericChart ch1 = Chart2D.Chart.Line<DateTime,double,bool>(macd.t,macd.v,false,\"macd\").WithLineStyle(Width: 2, Color: Color.fromString(\"red\"));\n",
    "GenericChart.GenericChart ch2 = Chart2D.Chart.Line<DateTime,double,bool>(signal.t,signal.v,false,\"signal\").WithLineStyle(Width: 1.5, Color: Color.fromString(\"green\"));\n",
    "//GenericChart.GenericChart hist = Chart2D.Chart.Column<DateTime,double,string,bool,bool>(histogram.t,histogram.v).WithLineStyle(Width: 1.5, Color: Color.fromString(\"green\"));\n",
    "\n",
    "var chart = Chart.Combine(new []{ch1,ch2}).WithSize(1200,400).WithMargin(Margin.init<int, int, int, int, int, bool>(1,1,60,1,1,true)).WithTitle(\"MACD using EMA\");\n",
    "\n",
    "chart"
   ]
  }
 ],
 "metadata": {
  "kernelspec": {
   "display_name": ".NET (C#)",
   "language": "C#",
   "name": ".net-csharp"
  },
  "language_info": {
   "file_extension": ".cs",
   "mimetype": "text/x-csharp",
   "name": "C#",
   "pygments_lexer": "csharp",
   "version": "9.0"
  },
  "orig_nbformat": 4
 },
 "nbformat": 4,
 "nbformat_minor": 2
}
