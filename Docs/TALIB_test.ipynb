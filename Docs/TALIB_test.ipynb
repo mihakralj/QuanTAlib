{
 "cells": [
  {
   "cell_type": "code",
   "execution_count": null,
   "metadata": {
    "dotnet_interactive": {
     "language": "csharp"
    },
    "vscode": {
     "languageId": "dotnet-interactive.csharp"
    }
   },
   "outputs": [
    {
     "data": {
      "text/html": [
       "<div><div></div><div></div><div><strong>Installed Packages</strong><ul><li><span>QuantLib, 1.0.5</span></li><li><span>TALib.NETCore, 0.4.4</span></li></ul></div></div>"
      ]
     },
     "metadata": {},
     "output_type": "display_data"
    }
   ],
   "source": [
    "#r \"nuget:YahooFinanceApi;\" \n",
    "#r \"nuget: TALib.NETCore, 0.4.4\"\n",
    "#r \"nuget:QuantLib\" \n",
    "\n",
    "using YahooFinanceApi;\n",
    "using QuantLib;\n",
    "using TALib;\n"
   ]
  },
  {
   "cell_type": "code",
   "execution_count": null,
   "metadata": {
    "dotnet_interactive": {
     "language": "csharp"
    },
    "vscode": {
     "languageId": "dotnet-interactive.csharp"
    }
   },
   "outputs": [
    {
     "data": {
      "text/html": [
       "<div class=\"dni-plaintext\">1393</div>"
      ]
     },
     "metadata": {},
     "output_type": "display_data"
    }
   ],
   "source": [
    "var history = await Yahoo.GetHistoricalAsync(\"AAPL\", DateTime.Today.AddDays(-2020), DateTime.Now, Period.Daily);\n",
    "public double[] input = new double[history.Count()];\n",
    "for (int i=0; i<history.Count(); i++) { input[i]=(double)history[i].Close; }\n",
    "\n",
    "//public  double[] input = new double[]{10,1,1,1,1,1,1,1,1,1,1,1,1,1,1,1};\n",
    "\n",
    "double[] output = new double[input.Length];\n",
    "int outBegIdx, outNbElement;\n",
    "Core.Ema(input, 0, input.Length-1, output, out outBegIdx, out outNbElement, 5);\n",
    "\n",
    "TSeries data = new();\n",
    "EMA_Series ind = new(data, 5, true);\n",
    "for (int i=0; i<input.Length; i++) { \n",
    "    data.Add(input[i]); \n",
    "    double taval = (i>=outBegIdx) ? output[i-outBegIdx]:double.NaN;\n",
    "    //Console.Write($\"{i}\\t{data[i].v:f2}\\t{ind[i].v:f5}\\t{taval:f5}\\n\");\n",
    "}\n",
    "data.Count()"
   ]
  },
  {
   "cell_type": "code",
   "execution_count": null,
   "metadata": {
    "dotnet_interactive": {
     "language": "csharp"
    },
    "vscode": {
     "languageId": "dotnet-interactive.csharp"
    }
   },
   "outputs": [
    {
     "data": {
      "text/html": [
       "<table><thead><tr><th><i>index</i></th><th>Item1</th><th>Item2</th></tr></thead><tbody><tr><td>0</td><td><span>2022-03-21 00:00:00Z</span></td><td><div class=\"dni-plaintext\">165.380005</div></td></tr><tr><td>1</td><td><span>2022-03-22 00:00:00Z</span></td><td><div class=\"dni-plaintext\">168.820007</div></td></tr><tr><td>2</td><td><span>2022-03-23 00:00:00Z</span></td><td><div class=\"dni-plaintext\">170.210007</div></td></tr><tr><td>3</td><td><span>2022-03-24 00:00:00Z</span></td><td><div class=\"dni-plaintext\">174.070007</div></td></tr><tr><td>4</td><td><span>2022-03-25 00:00:00Z</span></td><td><div class=\"dni-plaintext\">174.720001</div></td></tr><tr><td>5</td><td><span>2022-03-28 00:00:00Z</span></td><td><div class=\"dni-plaintext\">175.600006</div></td></tr><tr><td>6</td><td><span>2022-03-29 00:00:00Z</span></td><td><div class=\"dni-plaintext\">178.960007</div></td></tr><tr><td>7</td><td><span>2022-03-30 00:00:00Z</span></td><td><div class=\"dni-plaintext\">177.666</div></td></tr></tbody></table>"
      ]
     },
     "metadata": {},
     "output_type": "display_data"
    }
   ],
   "source": [
    "var history = await Yahoo.GetHistoricalAsync(\"AAPL\", DateTime.Today.AddDays(-10), DateTime.Now, Period.Daily);\n",
    "var ddata = history.Select(x => (t: x.DateTime, v: (double)x.Close));\n",
    "\n",
    "//var baselist = history.Select(x => (t: x.DateTime, v: (double)x.Close));\n",
    "//TSeries data = new();\n",
    "//baselist.ToList().ForEach(q => data.Add((q)));\n",
    "\n",
    "//history.Select(x => (t: x.DateTime, v: (double)x.Close)).ToList().GetType()\n",
    "ddata"
   ]
  },
  {
   "cell_type": "code",
   "execution_count": null,
   "metadata": {
    "dotnet_interactive": {
     "language": "csharp"
    },
    "vscode": {
     "languageId": "dotnet-interactive.csharp"
    }
   },
   "outputs": [],
   "source": [
    "int period = 10;\n",
    "\n",
    "//QuantLib SMA algorithm\n",
    "SMA_Series e = new(data, period, false);  \n",
    "\n",
    "// direct call to SMA from TA-LIB - with stitching NaNs in front\n",
    "double[] output = new double[data.Count];\n",
    "double[] nans = new double[period];\n",
    "double[] ta_temp = new double[data.Count-period+1];\n",
    "Array.Fill(nans, double.NaN);\n",
    "Core.Sma(data.v.ToArray(), 0, data.Count-1, ta_temp, out outBegIdx, out outNbElement, period); //TA-LIB SMA method\n",
    "nans.CopyTo(output,0);\n",
    "ta_temp.CopyTo(output,period-1);\n",
    "\n",
    "// extracted SMA algo from TA-LIB - with full calc of early values\n",
    "TSeries ta_out = new();\n",
    "int i = 0;\n",
    "double periodTotal = 0;\n",
    "do {\n",
    "    periodTotal += data[i].v;\n",
    "    double tempReal = periodTotal;\n",
    "    if (i>=period) { periodTotal -= data[i-period].v; }\n",
    "    ta_out.Add((data[i].t, tempReal/((i<period)?i:period)), false);\n",
    "    i++;\n",
    "} while (i < data.Count-1);\n"
   ]
  },
  {
   "cell_type": "code",
   "execution_count": null,
   "metadata": {
    "dotnet_interactive": {
     "language": "csharp"
    },
    "vscode": {
     "languageId": "dotnet-interactive.csharp"
    }
   },
   "outputs": [
    {
     "name": "stdout",
     "output_type": "stream",
     "text": [
      "TA-LIB Direct\t  TALIB Algo\t QuantLib\n",
      "158.20\t\t  177.67\t 158.20\n",
      "158.28\t\t  177.44\t 158.28\n",
      "158.89\t\t  177.66\t 158.89\n",
      "160.03\t\t  178.61\t 160.03\n",
      "160.76\t\t  179.89\t 160.76\n",
      "162.31\t\t  181.00\t 162.31\n",
      "164.31\t\t  182.62\t 164.31\n",
      "166.81\t\t  184.71\t 166.81\n",
      "169.20\t\t  187.54\t 169.20\n",
      "1393\t\t  1392\t\t 1393\n"
     ]
    }
   ],
   "source": [
    "// comparing the tail end of three results\n",
    "Console.Write($\"TA-LIB Direct\\t  TALIB Algo\\t QuantLib\\n\");\n",
    "for (int i=data.Count-10; i<data.Count-1; i++) \n",
    "    Console.Write($\"{output[i]:f2}\\t\\t  {ta_out[i].v:f2}\\t {e[i].v:f2}\\n\");\n",
    "\n",
    "Console.Write($\"{output.Length}\\t\\t  {ta_out.Count()}\\t\\t {e.Count()}\\n\");\n",
    "\n"
   ]
  },
  {
   "cell_type": "code",
   "execution_count": null,
   "metadata": {
    "dotnet_interactive": {
     "language": "csharp"
    },
    "vscode": {
     "languageId": "dotnet-interactive.csharp"
    }
   },
   "outputs": [
    {
     "data": {
      "text/html": [
       "<div class=\"dni-plaintext\">1393</div>"
      ]
     },
     "metadata": {},
     "output_type": "display_data"
    }
   ],
   "source": [
    "output.Length"
   ]
  }
 ],
 "metadata": {
  "kernelspec": {
   "display_name": ".NET (C#)",
   "language": "C#",
   "name": ".net-csharp"
  },
  "language_info": {
   "file_extension": ".cs",
   "mimetype": "text/x-csharp",
   "name": "C#",
   "pygments_lexer": "csharp",
   "version": "9.0"
  },
  "orig_nbformat": 4
 },
 "nbformat": 4,
 "nbformat_minor": 2
}
