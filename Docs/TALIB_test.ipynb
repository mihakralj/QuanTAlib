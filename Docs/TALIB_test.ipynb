{
 "cells": [
  {
   "cell_type": "code",
   "execution_count": null,
   "metadata": {
    "dotnet_interactive": {
     "language": "csharp"
    },
    "vscode": {
     "languageId": "dotnet-interactive.csharp"
    }
   },
   "outputs": [
    {
     "data": {
      "text/html": [
       "<div><div></div><div></div><div><strong>Installed Packages</strong><ul><li><span>QuantLib, 1.0.5</span></li><li><span>TALib.NETCore, 0.4.4</span></li></ul></div></div>"
      ]
     },
     "metadata": {},
     "output_type": "display_data"
    }
   ],
   "source": [
    "#r \"nuget:YahooFinanceApi;\" \n",
    "#r \"nuget: TALib.NETCore, 0.4.4\"\n",
    "#r \"nuget:QuantLib\" \n",
    "\n",
    "using YahooFinanceApi;\n",
    "using QuantLib;\n",
    "using TALib;\n"
   ]
  },
  {
   "cell_type": "code",
   "execution_count": null,
   "metadata": {
    "dotnet_interactive": {
     "language": "csharp"
    },
    "vscode": {
     "languageId": "dotnet-interactive.csharp"
    }
   },
   "outputs": [
    {
     "name": "stdout",
     "output_type": "stream",
     "text": [
      "0\tNaN\tNaN\n",
      "1\tNaN\tNaN\n",
      "2\tNaN\tNaN\n",
      "3\t2.5\t2.5\n",
      "4\t3.5\t3.5\n",
      "5\t4.5\t4.5\n",
      "6\t5.5\t5.5\n",
      "7\t6.5\t6.5\n",
      "8\t7.5\t7.5\n",
      "9\t8.5\t8.5\n",
      "10\t9.5\t9.5\n",
      "11\t10.5\t10.5\n"
     ]
    }
   ],
   "source": [
    "public static double[] close = new double[]{1,2,3,4,5,6,7,8,9,10,11,12};\n",
    "TSeries close1 = new();\n",
    "SMA_Series ind = new(close1, 4, true);\n",
    "for (int i=0; i<close.Length; i++) { \n",
    "    close1.Add(close[i]); \n",
    "    Console.Write($\"{i}\\t{ind[i].v}\\t{ind[i].v}\\n\");\n",
    "}\n"
   ]
  }
 ],
 "metadata": {
  "kernelspec": {
   "display_name": ".NET (C#)",
   "language": "C#",
   "name": ".net-csharp"
  },
  "language_info": {
   "file_extension": ".cs",
   "mimetype": "text/x-csharp",
   "name": "C#",
   "pygments_lexer": "csharp",
   "version": "9.0"
  },
  "orig_nbformat": 4
 },
 "nbformat": 4,
 "nbformat_minor": 2
}
