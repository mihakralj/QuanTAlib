{
 "cells": [
  {
   "cell_type": "code",
   "execution_count": null,
   "metadata": {
    "dotnet_interactive": {
     "language": "csharp"
    },
    "vscode": {
     "languageId": "dotnet-interactive.csharp"
    }
   },
   "outputs": [
    {
     "data": {
      "text/html": [
       "<div><div></div><div></div><div></div></div>"
      ]
     },
     "metadata": {},
     "output_type": "display_data"
    }
   ],
   "source": [
    "#r \"nuget:YahooFinanceApi;\" \n",
    "#r \"nuget:QuantLib;\" \n",
    "//#r \"../Algos/bin/Debug/QuantLib.dll\"\n",
    "using YahooFinanceApi;\n",
    "using QuantLib;\n"
   ]
  },
  {
   "cell_type": "code",
   "execution_count": null,
   "metadata": {
    "dotnet_interactive": {
     "language": "csharp"
    },
    "vscode": {
     "languageId": "dotnet-interactive.csharp"
    }
   },
   "outputs": [
    {
     "name": "stdout",
     "output_type": "stream",
     "text": [
      "date\t\t Value\t SMA\t WMA\t EMA\t HMA\t DEMA\t TEMA \tZLEMA \tJMA\r\n",
      "2022-02-28\t 52.46\t 52.46\t 52.46\t 52.46\t 52.46\t 52.46\t 52.46\t 52.46\t 52.46\n",
      "2022-03-01\t 50.04\t 51.25\t 50.85\t 51.65\t 51.38\t 51.12\t 50.76\t 50.85\t 50.38\n",
      "2022-03-02\t 52.43\t 51.64\t 51.64\t 51.91\t 51.37\t 51.73\t 51.72\t 51.36\t 52.10\n",
      "2022-03-03\t 50.24\t 51.29\t 51.08\t 51.35\t 51.08\t 50.86\t 50.65\t 51.06\t 50.54\n",
      "2022-03-04\t 48.09\t 50.65\t 50.08\t 50.27\t 49.58\t 49.21\t 48.70\t 48.62\t 48.57\n",
      "2022-03-07\t 42.72\t 48.70\t 47.44\t 47.75\t 45.72\t 45.37\t 44.14\t 44.15\t 43.49\n",
      "2022-03-08\t 42.13\t 47.12\t 45.25\t 45.88\t 42.29\t 43.04\t 41.92\t 41.49\t 42.28\n",
      "2022-03-09\t 46.64\t 45.96\t 45.09\t 46.13\t 43.05\t 44.41\t 44.41\t 44.51\t 45.66\n",
      "2022-03-10\t 45.14\t 44.94\t 44.81\t 45.80\t 44.94\t 44.43\t 44.67\t 45.72\t 45.37\n",
      "2022-03-11\t 42.34\t 43.79\t 43.94\t 44.65\t 44.51\t 42.97\t 42.91\t 43.16\t 42.98\n",
      "2022-03-14\t 39.86\t 43.22\t 42.63\t 43.05\t 41.68\t 40.87\t 40.50\t 40.30\t 40.44\n",
      "2022-03-15\t 43.55\t 43.51\t 42.74\t 43.22\t 41.16\t 41.87\t 42.18\t 41.79\t 42.79\n",
      "2022-03-16\t 48.44\t 43.87\t 44.39\t 44.96\t 44.75\t 45.22\t 46.50\t 46.87\t 47.31\n",
      "2022-03-17\t 50.06\t 44.85\t 46.45\t 46.66\t 49.07\t 47.97\t 49.52\t 50.10\t 49.63\n",
      "2022-03-18\t 53.17\t 47.02\t 49.22\t 48.83\t 52.45\t 51.15\t 52.86\t 52.70\t 52.60\n",
      "2022-03-21\t 52.79\t 49.60\t 51.15\t 50.15\t 53.67\t 52.58\t 53.79\t 53.64\t 52.85\n",
      "2022-03-22\t 55.91\t 52.07\t 53.25\t 52.07\t 54.97\t 54.97\t 56.09\t 55.31\t 55.41\n",
      "2022-03-23\t 53.55\t 53.10\t 53.74\t 52.56\t 54.98\t 54.82\t 55.15\t 54.98\t 54.03\n",
      "2022-03-24\t 57.02\t 54.49\t 55.05\t 54.05\t 55.76\t 56.55\t 56.92\t 56.03\t 56.33\n",
      "2022-03-25\t 56.93\t 55.24\t 55.87\t 55.01\t 56.72\t 57.31\t 57.43\t 57.46\t 56.88\n"
     ]
    }
   ],
   "source": [
    "TSeries data = new();\n",
    "var history = await Yahoo.GetHistoricalAsync(\"TQQQ\", DateTime.Today.AddDays(-30), DateTime.Now, Period.Daily);\n",
    "SMA_Series sma = new(data, 5);\n",
    "WMA_Series wma = new(data, 5);\n",
    "EMA_Series ema = new(data, 5);\n",
    "HMA_Series hma = new(data, 5);\n",
    "DEMA_Series dema = new(data, 5);\n",
    "TEMA_Series tema = new(data, 5);\n",
    "ZLEMA_Series zlema = new(data, 5);\n",
    "JMA_Series jma = new(data, 5);\n",
    "\n",
    "Console.WriteLine($\"date\\t\\t Value\\t SMA\\t WMA\\t EMA\\t HMA\\t DEMA\\t TEMA \\tZLEMA \\tJMA\");\n",
    "foreach (var i in history) {\n",
    "    data.Add((i.DateTime,  (double)i.Close)); // adding data will signal dependant indicators\n",
    "\n",
    "    Console.Write($\"{data[^1].t:yyyy-MM-dd}\\t {(double)data:f2}\\t {(double)sma:f2}\\t {(double)wma:f2}\\t {(double)ema:f2}\\t {(double)hma:f2}\\t {(double)dema:f2}\\t {(double)tema:f2}\\t {(double)zlema:f2}\\t {(double)jma:f2}\\n\");\n",
    "}"
   ]
  },
  {
   "cell_type": "code",
   "execution_count": null,
   "metadata": {
    "dotnet_interactive": {
     "language": "csharp"
    }
   },
   "outputs": [
    {
     "data": {
      "text/html": [
       "<table><thead><tr><th><i>index</i></th><th>Item1</th><th>Item2</th></tr></thead><tbody><tr><td>0</td><td><span>2022-02-28 00:00:00Z</span></td><td><div class=\"dni-plaintext\">52.459999</div></td></tr><tr><td>1</td><td><span>2022-03-01 00:00:00Z</span></td><td><div class=\"dni-plaintext\">50.61501006062834</div></td></tr><tr><td>2</td><td><span>2022-03-02 00:00:00Z</span></td><td><div class=\"dni-plaintext\">51.73121593176364</div></td></tr><tr><td>3</td><td><span>2022-03-03 00:00:00Z</span></td><td><div class=\"dni-plaintext\">50.79650129997898</div></td></tr><tr><td>4</td><td><span>2022-03-04 00:00:00Z</span></td><td><div class=\"dni-plaintext\">48.59591032734059</div></td></tr><tr><td>5</td><td><span>2022-03-07 00:00:00Z</span></td><td><div class=\"dni-plaintext\">43.82050105885604</div></td></tr><tr><td>6</td><td><span>2022-03-08 00:00:00Z</span></td><td><div class=\"dni-plaintext\">41.88214663143617</div></td></tr><tr><td>7</td><td><span>2022-03-09 00:00:00Z</span></td><td><div class=\"dni-plaintext\">45.08576220176161</div></td></tr><tr><td>8</td><td><span>2022-03-10 00:00:00Z</span></td><td><div class=\"dni-plaintext\">45.54543094320387</div></td></tr><tr><td>9</td><td><span>2022-03-11 00:00:00Z</span></td><td><div class=\"dni-plaintext\">43.07096025881797</div></td></tr><tr><td>10</td><td><span>2022-03-14 00:00:00Z</span></td><td><div class=\"dni-plaintext\">40.37313713675335</div></td></tr><tr><td>11</td><td><span>2022-03-15 00:00:00Z</span></td><td><div class=\"dni-plaintext\">42.291310278571686</div></td></tr><tr><td>12</td><td><span>2022-03-16 00:00:00Z</span></td><td><div class=\"dni-plaintext\">47.088501047154246</div></td></tr><tr><td>13</td><td><span>2022-03-17 00:00:00Z</span></td><td><div class=\"dni-plaintext\">49.86600339707305</div></td></tr><tr><td>14</td><td><span>2022-03-18 00:00:00Z</span></td><td><div class=\"dni-plaintext\">52.64814773057924</div></td></tr><tr><td>15</td><td><span>2022-03-21 00:00:00Z</span></td><td><div class=\"dni-plaintext\">53.24459261928392</div></td></tr><tr><td>16</td><td><span>2022-03-22 00:00:00Z</span></td><td><div class=\"dni-plaintext\">55.362267827627115</div></td></tr><tr><td>17</td><td><span>2022-03-23 00:00:00Z</span></td><td><div class=\"dni-plaintext\">54.50238513830949</div></td></tr><tr><td>18</td><td><span>2022-03-24 00:00:00Z</span></td><td><div class=\"dni-plaintext\">56.1808926946881</div></td></tr><tr><td>19</td><td><span>2022-03-25 00:00:00Z</span></td><td><div class=\"dni-plaintext\">57.169449264800946</div></td></tr></tbody></table>"
      ]
     },
     "metadata": {},
     "output_type": "display_data"
    }
   ],
   "source": [
    "ADD_Series two = new(zlema, jma);   // even when indicator is created later, it will grab the data from its source table\n",
    "DIV_Series mean = new(two, 2);      // this pair here calculates mean of ZLEMA and JMA indicators\n",
    "\n",
    "mean"
   ]
  }
 ],
 "metadata": {
  "kernelspec": {
   "display_name": ".NET (C#)",
   "language": "C#",
   "name": ".net-csharp"
  },
  "language_info": {
   "file_extension": ".cs",
   "mimetype": "text/x-csharp",
   "name": "C#",
   "pygments_lexer": "csharp",
   "version": "9.0"
  },
  "orig_nbformat": 4
 },
 "nbformat": 4,
 "nbformat_minor": 2
}
