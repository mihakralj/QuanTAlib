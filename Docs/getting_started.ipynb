{
 "cells": [
  {
   "cell_type": "markdown",
   "metadata": {},
   "source": [
    "# Quick Start\n",
    "\n",
    "In order to use this .NET Interactive Notebook and play along with QuantLib (outside making your own app or plugging QuantLib into Quantower), you will need:\n",
    "\n",
    "- Installed <a href=\"https://code.visualstudio.com/\" target=\"_blank\">Visual Studio Code</a>\n",
    "- Installed <a href=\"https://dotnet.microsoft.com/download/dotnet/6.0\" target=\"_blank\">.NET 6 SDK</a>\n",
    "- Installed <a href=\"https://marketplace.visualstudio.com/items?itemName=ms-dotnettools.dotnet-interactive-vscode\" target=\"_blank\">.NET Interactive Notebooks</a> extension\n",
    "\n",
    "For impatient, here is a simple example of calculating three moving averages - SMA(data), EMA(SMA(data)) and WMA(EMA(SMA(data))) from 10 days of AAPL stock data using QuantLib (and YahooFinance to pull data), and then to chart it (using Plotly.NET):"
   ]
  },
  {
   "cell_type": "code",
   "execution_count": null,
   "metadata": {
    "dotnet_interactive": {
     "language": "csharp"
    },
    "vscode": {
     "languageId": "dotnet-interactive.csharp"
    }
   },
   "outputs": [
    {
     "data": {
      "text/html": [
       "<div><div></div><div></div><div></div></div>"
      ]
     },
     "metadata": {},
     "output_type": "display_data"
    },
    {
     "name": "stdout",
     "output_type": "stream",
     "text": [
      "date\t\t data\t SMA\t EMA\t WMA\t\n",
      "2022-03-14\t 150.62\t 150.62\t 150.62\t NaN\t\n",
      "2022-03-15\t 155.09\t 152.85\t 151.36\t NaN\t\n",
      "2022-03-16\t 159.59\t 155.10\t 152.61\t NaN\t\n",
      "2022-03-17\t 160.62\t 156.48\t 153.90\t NaN\t\n",
      "2022-03-18\t 163.98\t 157.98\t 155.26\t 153.54\t\n",
      "2022-03-21\t 165.38\t 160.93\t 157.15\t 155.01\t\n",
      "2022-03-22\t 168.82\t 163.68\t 159.33\t 156.76\t\n",
      "2022-03-23\t 170.21\t 165.80\t 161.48\t 158.71\t\n",
      "2022-03-24\t 174.07\t 168.49\t 163.82\t 160.84\t\n"
     ]
    }
   ],
   "source": [
    "#r \"nuget:YahooFinanceApi;\"\n",
    "#r \"nuget:QuantLib;\"\n",
    "using YahooFinanceApi;\n",
    "using QuantLib;\n",
    "\n",
    "TSeries data = new();\n",
    "var history = await Yahoo.GetHistoricalAsync(\"AAPL\", DateTime.Today.AddDays(-15), DateTime.Now, Period.Daily);\n",
    "SMA_Series sma = new(source: data, period: 5, useNaN: false);\n",
    "EMA_Series ema = new(source: sma, period: 5);                   // by default, indicators expose early data\n",
    "WMA_Series wma = new(ema, 5, useNaN: true);                     // for the final calculation we hide early data\n",
    "\n",
    "Console.Write($\"date\\t\\t data\\t SMA\\t EMA\\t WMA\\t\\n\");\n",
    "for (var i=0; i<history.Count-1; i++) {\n",
    "    var item=history[i];\n",
    "    data.Add((item.DateTime,  (double)item.Close));\n",
    "    Console.Write($\"{data[^1].t:yyyy-MM-dd}\\t {(double)data:f2}\\t {(double)sma:f2}\\t {(double)ema:f2}\\t {(double)wma:f2}\\t\\n\");\n",
    "}"
   ]
  },
  {
   "cell_type": "markdown",
   "metadata": {},
   "source": [
    "## Understanding QuantLib data model\n",
    "\n",
    "QuantLib expects that every data item is a tuple (TimeDate t, double v) and TSeries is a list of (t,v) tuples. There are several helpers built into the TSeries class to simplify adding elements:"
   ]
  },
  {
   "cell_type": "code",
   "execution_count": null,
   "metadata": {
    "dotnet_interactive": {
     "language": "csharp"
    },
    "vscode": {
     "languageId": "dotnet-interactive.csharp"
    }
   },
   "outputs": [
    {
     "data": {
      "text/html": [
       "<table><thead><tr><th><i>index</i></th><th>Item1</th><th>Item2</th></tr></thead><tbody><tr><td>0</td><td><span>2022-03-26 00:00:00Z</span></td><td><div class=\"dni-plaintext\">105.3</div></td></tr><tr><td>1</td><td><span>2022-03-26 21:09:19Z</span></td><td><div class=\"dni-plaintext\">293.1</div></td></tr><tr><td>2</td><td><span>2022-03-26 21:09:19Z</span></td><td><div class=\"dni-plaintext\">0</div></td></tr><tr><td>3</td><td><span>2022-03-23 21:09:19Z</span></td><td><div class=\"dni-plaintext\">10</div></td></tr></tbody></table>"
      ]
     },
     "metadata": {},
     "output_type": "display_data"
    }
   ],
   "source": [
    "var item1 = (DateTime.Today, 105.3);        // (DateTime, Value) tuple\n",
    "double item2 = 293.1;                       // a simple double\n",
    "\n",
    "TSeries data = new();\n",
    "data.Add(item1);                            // adding tuple variable\n",
    "data.Add(item2);                            // QuantLib stamps the (double) with current time\n",
    "data.Add(0);                                // directly adding a number (stamped with current time)\n",
    "data.Add((DateTime.Now.AddDays(-3), 10));   // adding a tuple with timestamp 3 days ago\n",
    "\n",
    "data"
   ]
  },
  {
   "cell_type": "markdown",
   "metadata": {},
   "source": [
    "TSeries list can display only values (without timestamps) or only timestamps (without values) by using `.v` or `.t` properties"
   ]
  },
  {
   "cell_type": "code",
   "execution_count": null,
   "metadata": {
    "dotnet_interactive": {
     "language": "csharp"
    },
    "vscode": {
     "languageId": "dotnet-interactive.csharp"
    }
   },
   "outputs": [
    {
     "data": {
      "text/html": [
       "<table><thead><tr><th><i>index</i></th><th>value</th></tr></thead><tbody><tr><td>0</td><td><div class=\"dni-plaintext\">105.3</div></td></tr><tr><td>1</td><td><div class=\"dni-plaintext\">293.1</div></td></tr><tr><td>2</td><td><div class=\"dni-plaintext\">0</div></td></tr><tr><td>3</td><td><div class=\"dni-plaintext\">10</div></td></tr></tbody></table>"
      ]
     },
     "metadata": {},
     "output_type": "display_data"
    }
   ],
   "source": [
    "data.v"
   ]
  },
  {
   "cell_type": "markdown",
   "metadata": {},
   "source": [
    "The last element on the list can be accessed by .Last() or by [^1] - and using `.t` (time) and `.v` (value) properties. Also, casting a TSeries into (double) will return the value of the last element"
   ]
  },
  {
   "cell_type": "code",
   "execution_count": null,
   "metadata": {
    "dotnet_interactive": {
     "language": "csharp"
    },
    "vscode": {
     "languageId": "dotnet-interactive.csharp"
    }
   },
   "outputs": [
    {
     "data": {
      "text/html": [
       "<div class=\"dni-plaintext\">10</div>"
      ]
     },
     "metadata": {},
     "output_type": "display_data"
    }
   ],
   "source": [
    "bool IsTheSame = data.Last().v == data[^1].v;\n",
    "double lastvalue = data;\n",
    "\n",
    "lastvalue"
   ]
  },
  {
   "cell_type": "markdown",
   "metadata": {},
   "source": [
    "Indicators are just smart TSeries classes; they get all required input during class construction (source of the datafeed, period...) and they automatically subscribe to events of the datafeed. Whenever datafeed gets a new value, indicator will calculate its own value. Indicators are also event publishers, so other indicators can subscribe to their results, chaining indicators together:"
   ]
  },
  {
   "cell_type": "code",
   "execution_count": null,
   "metadata": {
    "dotnet_interactive": {
     "language": "csharp"
    },
    "vscode": {
     "languageId": "dotnet-interactive.csharp"
    }
   },
   "outputs": [
    {
     "data": {
      "text/html": [
       "<table><thead><tr><th><i>index</i></th><th>value</th></tr></thead><tbody><tr><td>0</td><td><div class=\"dni-plaintext\">Infinity</div></td></tr><tr><td>1</td><td><div class=\"dni-plaintext\">0.6666666666666666</div></td></tr><tr><td>2</td><td><div class=\"dni-plaintext\">0.3076923076923077</div></td></tr><tr><td>3</td><td><div class=\"dni-plaintext\">0.1951219512195122</div></td></tr><tr><td>4</td><td><div class=\"dni-plaintext\">0.1415929203539823</div></td></tr><tr><td>5</td><td><div class=\"dni-plaintext\">0.11072664359861592</div></td></tr><tr><td>6</td><td><div class=\"dni-plaintext\">0.09078014184397164</div></td></tr><tr><td>7</td><td><div class=\"dni-plaintext\">0.07687687687687687</div></td></tr><tr><td>8</td><td><div class=\"dni-plaintext\">0.06664931007550118</div></td></tr><tr><td>9</td><td><div class=\"dni-plaintext\">0.05881677197013211</div></td></tr><tr><td>10</td><td><div class=\"dni-plaintext\">0.2499389797412741</div></td></tr></tbody></table>"
      ]
     },
     "metadata": {},
     "output_type": "display_data"
    }
   ],
   "source": [
    "TSeries t1 = new() {0,1,2,3,4,5,6,7,8,9}; // t1 is loaded with data and activated as a publisher\n",
    "EMA_Series t2 = new(t1, 3);     // t2 will auto-load all history of t1 and wait for events from t1\n",
    "ADD_Series t3 = new(t1, t2);    // t3 is an ADDition of t1 and t2 - will also load history and wait for t2 events\n",
    "DIV_Series t4 = new(1, t3);     // t4 is calculating 1/t3 - and waiting for t3 events\n",
    "\n",
    "TSeries t5 = new();             // a wild indicator appeared! And it is empty!\n",
    "t4.Pub += t5.Sub;               // let us add a manual subscription to events coming from t4 - t5 is now listening to t4\n",
    "t1.Add(0);                      // we add one new value to t1 - and trigger the full cascade of calculation! t5 is now full!\n",
    "\n",
    "t5.v"
   ]
  }
 ],
 "metadata": {
  "kernelspec": {
   "display_name": ".NET (C#)",
   "language": "C#",
   "name": ".net-csharp"
  },
  "language_info": {
   "file_extension": ".cs",
   "mimetype": "text/x-csharp",
   "name": "C#",
   "pygments_lexer": "csharp",
   "version": "9.0"
  },
  "orig_nbformat": 4
 },
 "nbformat": 4,
 "nbformat_minor": 2
}
