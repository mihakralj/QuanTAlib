{
 "cells": [
  {
   "cell_type": "code",
   "execution_count": null,
   "metadata": {
    "dotnet_interactive": {
     "language": "csharp"
    },
    "vscode": {
     "languageId": "dotnet-interactive.csharp"
    }
   },
   "outputs": [
    {
     "data": {
      "text/html": [
       "<div><div></div><div></div><div><strong>Installed Packages</strong><ul><li><span>QuantLib, 1.0.5</span></li><li><span>TALib.NETCore, 0.4.4</span></li></ul></div></div>"
      ]
     },
     "metadata": {},
     "output_type": "display_data"
    }
   ],
   "source": [
    "#r \"nuget:YahooFinanceApi;\" \n",
    "#r \"nuget: TALib.NETCore, 0.4.4\"\n",
    "#r \"nuget:QuantLib\" \n",
    "\n",
    "using YahooFinanceApi;\n",
    "using QuantLib;\n",
    "using TALib;\n"
   ]
  },
  {
   "cell_type": "code",
   "execution_count": null,
   "metadata": {
    "dotnet_interactive": {
     "language": "csharp"
    },
    "vscode": {
     "languageId": "dotnet-interactive.csharp"
    }
   },
   "outputs": [
    {
     "data": {
      "text/html": [
       "<div class=\"dni-plaintext\">1394</div>"
      ]
     },
     "metadata": {},
     "output_type": "display_data"
    }
   ],
   "source": [
    "var history = await Yahoo.GetHistoricalAsync(\"AAPL\", DateTime.Today.AddDays(-2020), DateTime.Now, Period.Daily);\n",
    "public double[] input = new double[history.Count()];\n",
    "for (int i=0; i<history.Count(); i++) { input[i]=(double)history[i].Close; }\n",
    "\n",
    "data.Count()"
   ]
  },
  {
   "cell_type": "code",
   "execution_count": null,
   "metadata": {
    "dotnet_interactive": {
     "language": "csharp"
    },
    "vscode": {
     "languageId": "dotnet-interactive.csharp"
    }
   },
   "outputs": [],
   "source": [
    "int period = 10;\n",
    "\n",
    "//QuantLib SMA algorithm\n",
    "SMA_Series e = new(data, period, false);  \n",
    "\n",
    "// direct call to SMA from TA-LIB - with stitching NaNs in front\n",
    "double[] output = new double[data.Count];\n",
    "double[] nans = new double[period];\n",
    "double[] ta_temp = new double[data.Count-period+1];\n",
    "Array.Fill(nans, double.NaN);\n",
    "Core.Sma(data.v.ToArray(), 0, data.Count-1, ta_temp, out outBegIdx, out outNbElement, period); //TA-LIB SMA method\n",
    "nans.CopyTo(output,0);\n",
    "ta_temp.CopyTo(output,period-1);\n"
   ]
  },
  {
   "cell_type": "code",
   "execution_count": null,
   "metadata": {
    "dotnet_interactive": {
     "language": "csharp"
    },
    "vscode": {
     "languageId": "dotnet-interactive.csharp"
    }
   },
   "outputs": [
    {
     "name": "stdout",
     "output_type": "stream",
     "text": [
      "QuantLib\t TA-LIB\n",
      "158.28\t\t 158.28\n",
      "158.89\t\t 158.89\n",
      "160.03\t\t 160.03\n",
      "160.76\t\t 160.76\n",
      "162.31\t\t 162.31\n",
      "164.31\t\t 164.31\n",
      "166.81\t\t 166.81\n",
      "169.20\t\t 169.20\n",
      "171.01\t\t 171.01\n",
      "\n",
      "1394\t\t 1394\n"
     ]
    }
   ],
   "source": [
    "// comparing the tail of QuantLib and TA-LIB\n",
    "Console.Write($\"QuantLib\\t TA-LIB\\n\");\n",
    "for (int i=data.Count-10; i<data.Count-1; i++) \n",
    "    Console.Write($\"{e[i].v:f2}\\t\\t {output[i]:f2}\\n\");\n",
    "\n",
    "Console.Write($\"\\n{e.Count()}\\t\\t {output.Length}\\n\");\n"
   ]
  },
  {
   "cell_type": "code",
   "execution_count": null,
   "metadata": {
    "dotnet_interactive": {
     "language": "csharp"
    },
    "vscode": {
     "languageId": "dotnet-interactive.csharp"
    }
   },
   "outputs": [
    {
     "data": {
      "text/html": [
       "<div class=\"dni-plaintext\">1393</div>"
      ]
     },
     "metadata": {},
     "output_type": "display_data"
    }
   ],
   "source": [
    "output.Length"
   ]
  }
 ],
 "metadata": {
  "kernelspec": {
   "display_name": ".NET (C#)",
   "language": "C#",
   "name": ".net-csharp"
  },
  "language_info": {
   "file_extension": ".cs",
   "mimetype": "text/x-csharp",
   "name": "C#",
   "pygments_lexer": "csharp",
   "version": "9.0"
  },
  "orig_nbformat": 4
 },
 "nbformat": 4,
 "nbformat_minor": 2
}
