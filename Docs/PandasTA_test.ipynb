{
 "cells": [
  {
   "cell_type": "code",
   "execution_count": 10,
   "metadata": {},
   "outputs": [],
   "source": [
    "import pandas as pd\n",
    "import numpy as np\n",
    "import pandas_ta as ta\n",
    "import yfinance as yf\n",
    "pd.options.display.precision = 2\n",
    "\n",
    "stat = pd.DataFrame()\n",
    "\n",
    "df = yf.download('AAPL', start='2022-02-28', progress=False, auto_adjust=True)\n",
    "df.pop('Open')\n",
    "df.pop('High')\n",
    "df.pop('Low')\n",
    "df.pop('Volume')\n",
    "pd.options.display.precision = 2\n",
    "#df.ta.sma(close=df[\"Close\"], length=5, append=True)\n",
    "#df.ta.wma(close=df[\"Close\"], length=10, append=True)\n",
    "#df.ta.zlma(close=df[\"Close\"], length=5, append=True)"
   ]
  },
  {
   "cell_type": "code",
   "execution_count": 11,
   "metadata": {},
   "outputs": [
    {
     "name": "stdout",
     "output_type": "stream",
     "text": [
      "             Close   SMA_5  MAD_5  STDEV_5\n",
      "Date                                      \n",
      "2022-02-28  165.12     NaN    NaN      NaN\n",
      "2022-03-01  163.20     NaN    NaN      NaN\n",
      "2022-03-02  166.56     NaN    NaN      NaN\n",
      "2022-03-03  166.23     NaN    NaN      NaN\n",
      "2022-03-04  163.17  164.86   1.34     1.62\n",
      "2022-03-07  159.30  163.69   2.16     2.94\n",
      "2022-03-08  157.44  162.54   3.34     4.08\n",
      "2022-03-09  162.95  161.82   2.76     3.47\n",
      "2022-03-10  158.52  160.28   2.23     2.63\n",
      "2022-03-11  154.73  158.59   2.03     2.99\n",
      "2022-03-14  150.62  156.85   3.34     4.57\n",
      "2022-03-15  155.09  156.38   3.48     4.62\n",
      "2022-03-16  159.59  155.71   2.68     3.54\n",
      "2022-03-17  160.62  156.13   3.18     4.05\n",
      "2022-03-18  163.98  157.98   4.10     5.20\n",
      "2022-03-21  165.38  160.93   3.00     4.03\n",
      "2022-03-22  168.82  163.68   2.86     3.72\n",
      "2022-03-23  170.21  165.80   2.97     3.84\n",
      "2022-03-24  174.07  168.49   3.05     4.01\n",
      "2022-03-25  174.72  170.64   3.00     3.86\n",
      "2022-03-28  175.60  172.68   2.54     2.98\n",
      "2022-03-29  178.96  174.71   2.06     3.14\n",
      "2022-03-30  177.77  176.22   1.71     2.07\n"
     ]
    }
   ],
   "source": [
    "df.ta.sma(close=df[\"Close\"], length=5, append=True)\n",
    "df.ta.mad(close=df[\"Close\"], length=5, append=True)\n",
    "df.ta.stdev(close=df[\"Close\"], length=5, append=True)\n",
    "\n",
    "print(df)"
   ]
  }
 ],
 "metadata": {
  "interpreter": {
   "hash": "40d3a090f54c6569ab1632332b64b2c03c39dcf918b08424e98f38b5ae0af88f"
  },
  "kernelspec": {
   "display_name": "Python 3.8.10 ('base')",
   "language": "python",
   "name": "python3"
  },
  "language_info": {
   "codemirror_mode": {
    "name": "ipython",
    "version": 3
   },
   "file_extension": ".py",
   "mimetype": "text/x-python",
   "name": "python",
   "nbconvert_exporter": "python",
   "pygments_lexer": "ipython3",
   "version": "3.10.4"
  },
  "orig_nbformat": 4
 },
 "nbformat": 4,
 "nbformat_minor": 2
}
