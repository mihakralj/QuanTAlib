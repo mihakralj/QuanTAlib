{
 "cells": [
  {
   "cell_type": "code",
   "execution_count": 3,
   "metadata": {},
   "outputs": [],
   "source": [
    "import pandas as pd\n",
    "import numpy as np\n",
    "import pandas_ta as ta\n",
    "import yfinance as yf\n",
    "pd.options.display.precision = 2\n",
    "\n",
    "stat = pd.DataFrame()\n",
    "\n",
    "df = yf.download('TQQQ', start='2022-02-18', progress=False, auto_adjust=True)\n",
    "df.pop('Open')\n",
    "df.pop('High')\n",
    "df.pop('Low')\n",
    "df.pop('Volume')\n",
    "pd.options.display.precision = 2\n",
    "#df.ta.sma(close=df[\"Close\"], length=5, append=True)\n",
    "#df.ta.wma(close=df[\"Close\"], length=10, append=True)\n",
    "#df.ta.zlma(close=df[\"Close\"], length=5, append=True)"
   ]
  },
  {
   "cell_type": "code",
   "execution_count": 6,
   "metadata": {},
   "outputs": [
    {
     "name": "stdout",
     "output_type": "stream",
     "text": [
      "            Close  SMA_5  WMA_5  EMA_5  HMA_5  DEMA_5  TEMA_5\n",
      "Date                                                         \n",
      "2022-02-18  50.44    NaN    NaN    NaN    NaN     NaN     NaN\n",
      "2022-02-22  48.88    NaN    NaN    NaN    NaN     NaN     NaN\n",
      "2022-02-23  45.14    NaN    NaN    NaN    NaN     NaN     NaN\n",
      "2022-02-24  49.56    NaN    NaN    NaN    NaN     NaN     NaN\n",
      "2022-02-25  51.91  49.19  49.43  49.19    NaN   49.19   49.19\n",
      "2022-02-28  52.46  49.59  50.52  50.28  53.63   51.00   51.49\n",
      "2022-03-01  50.04  49.82  50.67  50.20  52.03   50.63   50.76\n",
      "2022-03-02  52.43  51.28  51.54  50.94  51.49   51.73   52.05\n",
      "2022-03-03  50.24  51.42  51.19  50.71  51.08   51.07   51.01\n",
      "2022-03-04  48.09  50.65  50.08  49.84  48.60   49.50   48.98\n",
      "2022-03-07  42.72  48.70  47.44  47.46  43.56   45.66   44.34\n",
      "2022-03-08  42.13  47.12  45.25  45.69  40.13   43.30   42.03\n",
      "2022-03-09  46.64  45.96  45.09  46.00  43.26   44.62   44.45\n",
      "2022-03-10  45.14  44.94  44.81  45.72  46.04   44.60   44.67\n",
      "2022-03-11  42.34  43.79  43.94  44.59  43.89   43.10   42.89\n",
      "2022-03-14  39.86  43.22  42.63  43.01  40.03   40.97   40.46\n",
      "2022-03-15  43.55  43.51  42.74  43.19  40.85   41.95   42.14\n",
      "2022-03-16  48.44  43.87  44.39  44.94  46.79   45.28   46.46\n",
      "2022-03-17  50.06  44.85  46.45  46.65  51.47   48.01   49.48\n",
      "2022-03-18  53.17  47.02  49.22  48.82  54.22   51.18   52.82\n"
     ]
    }
   ],
   "source": [
    "df.ta.sma(close=df[\"Close\"], length=5, append=True)\n",
    "df.ta.wma(close=df[\"Close\"], length=5, append=True)\n",
    "df.ta.ema(close=df[\"Close\"], length=5, append=True)\n",
    "df.ta.hma(close=df[\"Close\"], length=5, append=True)\n",
    "df.ta.dema(close=df[\"Close\"], length=5, append=True)\n",
    "df.ta.tema(close=df[\"Close\"], length=5, append=True)\n",
    "\n",
    "print(df)"
   ]
  }
 ],
 "metadata": {
  "interpreter": {
   "hash": "40d3a090f54c6569ab1632332b64b2c03c39dcf918b08424e98f38b5ae0af88f"
  },
  "kernelspec": {
   "display_name": "Python 3.8.10 ('base')",
   "language": "python",
   "name": "python3"
  },
  "language_info": {
   "codemirror_mode": {
    "name": "ipython",
    "version": 3
   },
   "file_extension": ".py",
   "mimetype": "text/x-python",
   "name": "python",
   "nbconvert_exporter": "python",
   "pygments_lexer": "ipython3",
   "version": "3.9.9"
  },
  "orig_nbformat": 4
 },
 "nbformat": 4,
 "nbformat_minor": 2
}
