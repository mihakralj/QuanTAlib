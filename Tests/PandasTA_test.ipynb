{
 "cells": [
  {
   "cell_type": "code",
   "execution_count": 10,
   "metadata": {},
   "outputs": [],
   "source": [
    "import pandas as pd\n",
    "import numpy as np\n",
    "import pandas_ta as ta\n",
    "import yfinance as yf\n",
    "pd.options.display.precision = 2\n",
    "\n",
    "stat = pd.DataFrame()\n",
    "\n",
    "df = yf.download('AAPL', start='2022-03-11', progress=False, auto_adjust=True)\n",
    "df.pop('Open')\n",
    "df.pop('High')\n",
    "df.pop('Low')\n",
    "df.pop('Volume')\n",
    "pd.options.display.precision = 2\n",
    "#df.ta.sma(close=df[\"Close\"], length=5, append=True)\n",
    "#df.ta.wma(close=df[\"Close\"], length=10, append=True)\n",
    "#df.ta.zlma(close=df[\"Close\"], length=5, append=True)"
   ]
  },
  {
   "cell_type": "code",
   "execution_count": 11,
   "metadata": {},
   "outputs": [
    {
     "name": "stdout",
     "output_type": "stream",
     "text": [
      "             Close  ALMA_5_6.0_0.85\n",
      "Date                               \n",
      "2022-03-11  154.73              NaN\n",
      "2022-03-14  150.62              NaN\n",
      "2022-03-15  155.09              NaN\n",
      "2022-03-16  159.59              NaN\n",
      "2022-03-17  160.62             0.00\n",
      "2022-03-18  163.98              NaN\n",
      "2022-03-21  165.38           157.95\n",
      "2022-03-22  168.82           160.67\n",
      "2022-03-23  170.21           162.85\n",
      "2022-03-24  174.07           165.30\n",
      "2022-03-25  174.72           167.66\n",
      "2022-03-28  175.60           170.18\n",
      "2022-03-29  178.96           172.62\n",
      "2022-03-30  177.77           174.61\n"
     ]
    }
   ],
   "source": [
    "df.ta.alma(close=df[\"Close\"], length=5, append=True)\n",
    "#df.ta.mad(close=df[\"Close\"], length=5, append=True)\n",
    "#df.ta.stdev(close=df[\"Close\"], length=5, append=True)\n",
    "\n",
    "print(df)"
   ]
  }
 ],
 "metadata": {
  "interpreter": {
   "hash": "40d3a090f54c6569ab1632332b64b2c03c39dcf918b08424e98f38b5ae0af88f"
  },
  "kernelspec": {
   "display_name": "Python 3.8.10 ('base')",
   "language": "python",
   "name": "python3"
  },
  "language_info": {
   "codemirror_mode": {
    "name": "ipython",
    "version": 3
   },
   "file_extension": ".py",
   "mimetype": "text/x-python",
   "name": "python",
   "nbconvert_exporter": "python",
   "pygments_lexer": "ipython3",
   "version": "3.10.4"
  },
  "orig_nbformat": 4
 },
 "nbformat": 4,
 "nbformat_minor": 2
}
