{
 "cells": [
  {
   "cell_type": "code",
   "execution_count": 2,
   "metadata": {},
   "outputs": [],
   "source": [
    "import pandas as pd\n",
    "import numpy as np\n",
    "import pandas_ta as ta\n",
    "import yfinance as yf\n",
    "pd.options.display.precision = 2\n",
    "\n",
    "stat = pd.DataFrame()\n",
    "\n",
    "df = yf.download('AAPL', start='2022-03-11', progress=False, auto_adjust=True)\n",
    "df.pop('Open')\n",
    "df.pop('High')\n",
    "df.pop('Low')\n",
    "df.pop('Volume')\n",
    "pd.options.display.precision = 2\n",
    "#df.ta.sma(close=df[\"Close\"], length=5, append=True)\n",
    "#df.ta.wma(close=df[\"Close\"], length=10, append=True)\n",
    "#df.ta.zlma(close=df[\"Close\"], length=5, append=True)"
   ]
  },
  {
   "cell_type": "code",
   "execution_count": null,
   "metadata": {},
   "outputs": [],
   "source": [
    "df.ta.entropy(close=df[\"Close\"], length=5, append=True)\n",
    "#df.ta.mad(close=df[\"Close\"], length=5, append=True)\n",
    "#df.ta.stdev(close=df[\"Close\"], length=5, append=True)\n",
    "\n",
    "print(df)"
   ]
  },
  {
   "cell_type": "code",
   "execution_count": 3,
   "metadata": {},
   "outputs": [
    {
     "name": "stdout",
     "output_type": "stream",
     "text": [
      "   Close  SMA_10  MEDIAN_10  VAR_10  STDEV_10\n",
      "0      3     NaN        NaN     NaN       NaN\n",
      "1      8     NaN        NaN     NaN       NaN\n",
      "2      6     NaN        NaN     NaN       NaN\n",
      "3     10     NaN        NaN     NaN       NaN\n",
      "4     12     NaN        NaN     NaN       NaN\n",
      "5      9     NaN        NaN     NaN       NaN\n",
      "6     11     NaN        NaN     NaN       NaN\n",
      "7     10     NaN        NaN     NaN       NaN\n",
      "8     12     NaN        NaN     NaN       NaN\n",
      "9      7     8.8        9.5    8.18      2.86\n"
     ]
    }
   ],
   "source": [
    "d = pd.DataFrame(np.array([3,8,6,10,12,9,11,10,12,7]), columns=['Close'])\n",
    "d.ta.sma(close=d[\"Close\"], length= 10, append=True)\n",
    "d.ta.median(close=d[\"Close\"], length= 10, append=True)\n",
    "d.ta.variance(close=d[\"Close\"], length= 10, append=True)\n",
    "d.ta.stdev(close=d[\"Close\"], length= 10, append=True)\n",
    "\n",
    "\n",
    "print(d)"
   ]
  }
 ],
 "metadata": {
  "interpreter": {
   "hash": "40d3a090f54c6569ab1632332b64b2c03c39dcf918b08424e98f38b5ae0af88f"
  },
  "kernelspec": {
   "display_name": "Python 3.8.10 ('base')",
   "language": "python",
   "name": "python3"
  },
  "language_info": {
   "codemirror_mode": {
    "name": "ipython",
    "version": 3
   },
   "file_extension": ".py",
   "mimetype": "text/x-python",
   "name": "python",
   "nbconvert_exporter": "python",
   "pygments_lexer": "ipython3",
   "version": "3.10.4"
  },
  "orig_nbformat": 4
 },
 "nbformat": 4,
 "nbformat_minor": 2
}
