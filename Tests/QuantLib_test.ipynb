{
 "cells": [
  {
   "cell_type": "code",
   "execution_count": null,
   "metadata": {
    "dotnet_interactive": {
     "language": "csharp"
    },
    "vscode": {
     "languageId": "dotnet-interactive.csharp"
    }
   },
   "outputs": [
    {
     "data": {
      "text/html": [
       "<div><div></div><div></div><div></div></div>"
      ]
     },
     "metadata": {},
     "output_type": "display_data"
    }
   ],
   "source": [
    "#r \"nuget:YahooFinanceApi;\" \n",
    "#r \"../Algos/bin/Debug/QuantLib.dll\"\n",
    "using YahooFinanceApi;\n",
    "using QuantLib;\n"
   ]
  },
  {
   "cell_type": "code",
   "execution_count": null,
   "metadata": {
    "dotnet_interactive": {
     "language": "csharp"
    },
    "vscode": {
     "languageId": "dotnet-interactive.csharp"
    }
   },
   "outputs": [
    {
     "name": "stdout",
     "output_type": "stream",
     "text": [
      "date\t\t Value\t SMA\t WMA\t EMA\t HMA\t DEMA\t TEMA \tZLEMA \tJMA\n",
      "2022-02-22\t 48.88\t 48.88\t 48.88\t 48.88\t 48.88\t 48.88\t 48.88\t 48.88\t 48.88\n",
      "2022-02-23\t 45.14\t 47.01\t 46.39\t 47.63\t 47.22\t 46.80\t 46.25\t 46.39\t 45.67\n",
      "2022-02-24\t 49.56\t 47.86\t 47.97\t 48.28\t 47.44\t 48.15\t 48.25\t 47.67\t 48.94\n",
      "2022-02-25\t 51.91\t 48.87\t 49.55\t 49.49\t 49.62\t 50.21\t 50.84\t 51.34\t 51.55\n",
      "2022-02-28\t 52.46\t 49.59\t 50.52\t 50.48\t 52.19\t 51.62\t 52.32\t 52.68\t 52.34\n",
      "2022-03-01\t 50.04\t 49.82\t 50.67\t 50.33\t 52.12\t 51.00\t 51.15\t 51.18\t 50.56\n",
      "2022-03-02\t 52.43\t 51.28\t 51.54\t 51.03\t 51.71\t 51.94\t 52.20\t 51.58\t 51.97\n",
      "2022-03-03\t 50.24\t 51.42\t 51.19\t 50.77\t 51.03\t 51.20\t 51.05\t 51.20\t 50.66\n",
      "2022-03-04\t 48.09\t 50.65\t 50.08\t 49.88\t 49.55\t 49.57\t 48.98\t 48.72\t 48.59\n",
      "2022-03-07\t 42.72\t 48.70\t 47.44\t 47.49\t 45.72\t 45.69\t 44.31\t 44.21\t 43.81\n",
      "2022-03-08\t 42.13\t 47.12\t 45.25\t 45.70\t 42.29\t 43.32\t 42.00\t 41.53\t 42.33\n",
      "2022-03-09\t 46.64\t 45.96\t 45.09\t 46.02\t 43.05\t 44.63\t 44.42\t 44.54\t 45.66\n",
      "2022-03-10\t 45.14\t 44.94\t 44.81\t 45.72\t 44.94\t 44.61\t 44.65\t 45.74\t 45.36\n",
      "2022-03-11\t 42.34\t 43.79\t 43.94\t 44.60\t 44.51\t 43.10\t 42.87\t 43.18\t 42.98\n",
      "2022-03-14\t 39.86\t 43.22\t 42.63\t 43.02\t 41.68\t 40.97\t 40.45\t 40.31\t 40.28\n",
      "2022-03-15\t 43.55\t 43.51\t 42.74\t 43.19\t 41.16\t 41.95\t 42.13\t 41.79\t 42.77\n",
      "2022-03-16\t 48.44\t 43.87\t 44.39\t 44.94\t 44.75\t 45.28\t 46.46\t 46.87\t 47.66\n",
      "2022-03-17\t 50.06\t 44.85\t 46.45\t 46.65\t 49.07\t 48.01\t 49.48\t 50.10\t 49.69\n",
      "2022-03-18\t 53.17\t 47.02\t 49.22\t 48.82\t 52.45\t 51.18\t 52.82\t 52.70\t 52.74\n",
      "2022-03-21\t 52.79\t 49.60\t 51.15\t 50.15\t 53.67\t 52.60\t 53.76\t 53.64\t 52.87\n",
      "2022-03-22\t 55.91\t 52.07\t 53.25\t 52.07\t 54.97\t 54.98\t 56.07\t 55.31\t 55.49\n",
      "2022-03-23\t 53.55\t 53.10\t 53.74\t 52.56\t 54.98\t 54.83\t 55.13\t 54.98\t 54.04\n",
      "2022-03-24\t 57.02\t 54.49\t 55.05\t 54.05\t 55.76\t 56.55\t 56.91\t 56.03\t 56.33\n",
      "2022-03-24\t 57.02\t 55.26\t 55.90\t 55.04\t 56.76\t 57.37\t 57.49\t 57.52\t 56.95\n"
     ]
    }
   ],
   "source": [
    "TSeries data = new();\n",
    "var history = await Yahoo.GetHistoricalAsync(\"TQQQ\", DateTime.Today.AddDays(-30), DateTime.Now, Period.Daily);\n",
    "SMA_Series sma = new(data, 5);\n",
    "WMA_Series wma = new(data, 5);\n",
    "EMA_Series ema = new(data, 5);\n",
    "HMA_Series hma = new(data, 5);\n",
    "DEMA_Series dema = new(data, 5);\n",
    "TEMA_Series tema = new(data, 5);\n",
    "ZLEMA_Series zlema = new(data, 5);\n",
    "JMA_Series jma = new(data, 5);\n",
    "\n",
    "Console.WriteLine($\"date\\t\\t Value\\t SMA\\t WMA\\t EMA\\t HMA\\t DEMA\\t TEMA \\tZLEMA \\tJMA\");\n",
    "foreach (var i in history) {\n",
    "    data.Add((i.DateTime,  (double)i.Close));\n",
    "\n",
    "    Console.WriteLine($\"{data[^1].t:yyyy-MM-dd}\\t {(double)data:f2}\\t {(double)sma:f2}\\t {(double)wma:f2}\\t {(double)ema:f2}\\t {(double)hma:f2}\\t {(double)dema:f2}\\t {(double)tema:f2}\\t {(double)zlema:f2}\\t {(double)jma:f2}\");\n",
    "}"
   ]
  }
 ],
 "metadata": {
  "kernelspec": {
   "display_name": ".NET (C#)",
   "language": "C#",
   "name": ".net-csharp"
  },
  "language_info": {
   "file_extension": ".cs",
   "mimetype": "text/x-csharp",
   "name": "C#",
   "pygments_lexer": "csharp",
   "version": "9.0"
  },
  "orig_nbformat": 4
 },
 "nbformat": 4,
 "nbformat_minor": 2
}
