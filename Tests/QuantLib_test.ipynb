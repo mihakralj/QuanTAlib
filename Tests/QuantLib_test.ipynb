{
 "cells": [
  {
   "cell_type": "code",
   "execution_count": null,
   "metadata": {
    "dotnet_interactive": {
     "language": "csharp"
    }
   },
   "outputs": [
    {
     "ename": "",
     "evalue": "",
     "output_type": "error",
     "traceback": [
      "\u001b[1;31mFailed to start the Kernel. \n",
      "Could not execute because the specified command or file was not found.\r\n",
      "Possible reasons for this include:\r\n",
      "  * You misspelled a built-in dotnet command.\r\n",
      "  * You intended to execute a .NET program, but dotnet-interactive does not exist.\r\n",
      "  * You intended to run a global tool, but a dotnet-prefixed executable with this name could not be found on the PATH. \n",
      "View Jupyter <a href='command:jupyter.viewOutput'>log</a> for further details."
     ]
    }
   ],
   "source": [
    "#r \"nuget:YahooFinanceApi;\" \n",
    "#r \"../Algos/bin/Debug/QuantLibrary.dll\"\n",
    "using YahooFinanceApi;\n",
    "using QuantLib;\n",
    "TSeries data = new();\n",
    "var history = await Yahoo.GetHistoricalAsync(\"TQQQ\", DateTime.Today.AddDays(-30), DateTime.Now, Period.Daily);"
   ]
  },
  {
   "cell_type": "code",
   "execution_count": null,
   "metadata": {
    "dotnet_interactive": {
     "language": "csharp"
    }
   },
   "outputs": [],
   "source": [
    "public class ZLEMA_Series : TSeries\n",
    "{\n",
    "    private int _p, _l;\n",
    "    private bool _NaN;\n",
    "    private TSeries _data;\n",
    "    private double _k, _k1m, _lagdata;\n",
    "    private double _ema, _lastema, _lastlastema;\n",
    "\n",
    "    public ZLEMA_Series(TSeries source, int period, bool useNaN = true)\n",
    "    {\n",
    "        _p = period;\n",
    "        _l = (int)Math.Ceiling((_p-1) * 0.5);\n",
    "        _data = source;\n",
    "        _k = 2.0 / (double)(period + 1);\n",
    "        _k1m = 1.0 - _k;\n",
    "        _NaN = useNaN;\n",
    "        _lastema = _lastlastema = double.NaN;\n",
    "    }\n",
    "\n",
    "    public new void Add((System.DateTime t, double v) data, bool update = false)\n",
    "    {\n",
    "        if (update) _lastema = _lastlastema;\n",
    "\n",
    "        _lagdata = _data[_data.Count-1].v + (_data[_data.Count-1].v - _data[Math.Max(_data.Count-1-_l,0)].v);\n",
    "\n",
    "        _ema = System.Double.IsNaN(_lastema) ? _lagdata : _lagdata * _k + _lastema * _k1m;\n",
    "        _lastlastema = _lastema;\n",
    "        _lastema = _ema;\n",
    "\n",
    "        (System.DateTime t, double v) result = (data.t, (this.Count < _p - 1 && _NaN) ? double.NaN : _ema);\n",
    "        if (update) base[base.Count - 1] = result; else base.Add(result);\n",
    "    }\n",
    "\n",
    "    public void Add(bool update = false)\n",
    "    {\n",
    "        this.Add(_data[_data.Count - 1], update);\n",
    "    }\n",
    "\n",
    "} "
   ]
  },
  {
   "cell_type": "code",
   "execution_count": null,
   "metadata": {
    "dotnet_interactive": {
     "language": "csharp"
    }
   },
   "outputs": [
    {
     "name": "stdout",
     "output_type": "stream",
     "text": [
      "date\t\t\t Value\t SMA\t WMA\t EMA\t HMA\t DEMA\t TEMA \tZLEMA\n",
      "2022-02-18\t 50.44\t 50.44\t 50.44\t 50.44\t 50.44\t 50.44\t 50.44\t 47.71\n",
      "2022-02-22\t 48.88\t 49.66\t 49.40\t 49.92\t 49.75\t 49.57\t 49.34\t 46.67\n",
      "2022-02-23\t 45.14\t 48.15\t 47.27\t 48.33\t 46.80\t 47.03\t 46.25\t 44.39\n",
      "2022-02-24\t 49.56\t 48.50\t 48.19\t 48.74\t 47.16\t 48.15\t 48.10\t 46.34\n",
      "2022-02-25\t 51.91\t 49.19\t 49.43\t 49.80\t 51.21\t 50.11\t 50.67\t 50.45\n",
      "2022-02-28\t 52.46\t 49.59\t 50.52\t 50.68\t 53.63\t 51.48\t 52.19\t 52.09\n",
      "2022-03-01\t 50.04\t 49.82\t 50.67\t 50.47\t 52.03\t 50.86\t 51.05\t 50.78\n",
      "2022-03-02\t 52.43\t 51.28\t 51.54\t 51.12\t 51.49\t 51.82\t 52.15\t 51.32\n",
      "2022-03-03\t 50.24\t 51.42\t 51.19\t 50.83\t 51.08\t 51.10\t 51.03\t 51.03\n",
      "2022-03-04\t 48.09\t 50.65\t 50.08\t 49.92\t 48.60\t 49.49\t 48.98\t 48.60\n",
      "2022-03-07\t 42.72\t 48.70\t 47.44\t 47.52\t 43.56\t 45.63\t 44.32\t 44.13\n",
      "2022-03-08\t 42.13\t 47.12\t 45.25\t 45.72\t 40.13\t 43.27\t 42.02\t 41.48\n",
      "2022-03-09\t 46.64\t 45.96\t 45.09\t 46.03\t 43.26\t 44.60\t 44.44\t 44.51\n",
      "2022-03-10\t 45.14\t 44.94\t 44.81\t 45.73\t 46.04\t 44.58\t 44.66\t 45.72\n",
      "2022-03-11\t 42.34\t 43.79\t 43.94\t 44.60\t 43.89\t 43.08\t 42.89\t 43.16\n",
      "2022-03-14\t 39.86\t 43.22\t 42.63\t 43.02\t 40.03\t 40.95\t 40.46\t 40.30\n",
      "2022-03-15\t 43.55\t 43.51\t 42.74\t 43.20\t 40.85\t 41.94\t 42.15\t 41.79\n",
      "2022-03-16\t 48.44\t 43.87\t 44.39\t 44.94\t 46.79\t 45.27\t 46.47\t 46.86\n",
      "2022-03-17\t 50.06\t 44.85\t 46.45\t 46.65\t 51.47\t 48.00\t 49.49\t 50.10\n",
      "2022-03-18\t 53.17\t 47.02\t 49.22\t 48.82\t 54.22\t 51.17\t 52.83\t 52.70\n",
      "2022-03-18\t 53.17\t 49.68\t 51.28\t 50.27\t 55.06\t 52.81\t 54.03\t 53.89\n"
     ]
    }
   ],
   "source": [
    "SMA_Series sma = new(data, 5, false);\n",
    "WMA_Series wma = new(data, 5, false);\n",
    "EMA_Series ema = new(data, 5, false);\n",
    "HMA_Series hma = new(data, 5, false);\n",
    "DEMA_Series dema = new(data, 5, false);\n",
    "TEMA_Series tema = new(data, 5, false);\n",
    "ZLEMA_Series zlema = new(data, 5, false);\n",
    "\n",
    "Console.WriteLine($\"date\\t\\t\\t Value\\t SMA\\t WMA\\t EMA\\t HMA\\t DEMA\\t TEMA \\tZLEMA\");\n",
    "foreach (var i in history) {\n",
    "    data.Add(i.DateTime,  (double)i.Close);\n",
    "    sma.Add();\n",
    "    ema.Add();\n",
    "    wma.Add();\n",
    "    hma.Add();\n",
    "    dema.Add();\n",
    "    tema.Add();\n",
    "    zlema.Add();\n",
    "    Console.WriteLine($\"{data[^1].t:yyyy-MM-dd}\\t {(double)data:f2}\\t {(double)sma:f2}\\t {(double)wma:f2}\\t {(double)ema:f2}\\t {(double)hma:f2}\\t {(double)dema:f2}\\t {(double)tema:f2}\\t {(double)zlema:f2}\");\n",
    "}"
   ]
  }
 ],
 "metadata": {
  "kernelspec": {
   "display_name": ".NET (C#)",
   "language": "C#",
   "name": ".net-csharp"
  },
  "language_info": {
   "file_extension": ".cs",
   "mimetype": "text/x-csharp",
   "name": "C#",
   "pygments_lexer": "csharp",
   "version": "9.0"
  },
  "orig_nbformat": 4
 },
 "nbformat": 4,
 "nbformat_minor": 2
}
