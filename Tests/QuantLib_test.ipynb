{
 "cells": [
  {
   "cell_type": "code",
   "execution_count": null,
   "metadata": {
    "dotnet_interactive": {
     "language": "csharp"
    },
    "vscode": {
     "languageId": "dotnet-interactive.csharp"
    }
   },
   "outputs": [
    {
     "data": {
      "text/html": [
       "<div><div></div><div></div><div></div></div>"
      ]
     },
     "metadata": {},
     "output_type": "display_data"
    }
   ],
   "source": [
    "#r \"nuget:YahooFinanceApi;\" \n",
    "#r \"nuget:QuantLib;\" \n",
    "//#r \"../Algos/bin/Debug/QuantLib.dll\"\n",
    "using YahooFinanceApi;\n",
    "using QuantLib;\n"
   ]
  },
  {
   "cell_type": "code",
   "execution_count": null,
   "metadata": {
    "dotnet_interactive": {
     "language": "csharp"
    },
    "vscode": {
     "languageId": "dotnet-interactive.csharp"
    }
   },
   "outputs": [
    {
     "name": "stdout",
     "output_type": "stream",
     "text": [
      "date\t\t Value\t SMA\t WMA\t EMA\t HMA\t DEMA\t TEMA \tZLEMA \tJMA\r\n",
      "2022-02-23\t 45.14\t 45.14\t 45.14\t 45.14\t 45.14\t 45.14\t 45.14\t 45.14\t 45.14\r\n",
      "2022-02-24\t 49.56\t 47.35\t 48.09\t 46.61\t 47.10\t 47.60\t 48.25\t 48.09\t 48.93\r\n",
      "2022-02-25\t 51.91\t 48.87\t 50.00\t 48.38\t 49.36\t 50.21\t 51.21\t 51.62\t 51.56\r\n",
      "2022-02-28\t 52.46\t 49.77\t 50.98\t 49.74\t 51.74\t 51.87\t 52.73\t 52.87\t 52.39\r\n",
      "2022-03-01\t 50.04\t 49.82\t 50.67\t 49.84\t 51.97\t 51.33\t 51.47\t 51.30\t 50.57\r\n",
      "2022-03-02\t 52.43\t 51.28\t 51.54\t 50.70\t 51.71\t 52.27\t 52.42\t 51.67\t 51.97\r\n",
      "2022-03-03\t 50.24\t 51.42\t 51.19\t 50.55\t 51.03\t 51.49\t 51.18\t 51.26\t 50.66\r\n",
      "2022-03-04\t 48.09\t 50.65\t 50.08\t 49.73\t 49.55\t 49.81\t 49.03\t 48.76\t 48.59\r\n",
      "2022-03-07\t 42.72\t 48.70\t 47.44\t 47.39\t 45.72\t 45.89\t 44.31\t 44.24\t 43.90\r\n",
      "2022-03-08\t 42.13\t 47.12\t 45.25\t 45.64\t 42.29\t 43.47\t 41.97\t 41.55\t 42.34\r\n",
      "2022-03-09\t 46.64\t 45.96\t 45.09\t 45.97\t 43.05\t 44.75\t 44.38\t 44.55\t 45.66\r\n",
      "2022-03-10\t 45.14\t 44.94\t 44.81\t 45.69\t 44.94\t 44.69\t 44.60\t 45.75\t 45.36\r\n",
      "2022-03-11\t 42.34\t 43.79\t 43.94\t 44.58\t 44.51\t 43.16\t 42.82\t 43.18\t 42.98\r\n",
      "2022-03-14\t 39.86\t 43.22\t 42.63\t 43.00\t 41.68\t 41.01\t 40.40\t 40.31\t 40.38\r\n",
      "2022-03-15\t 43.55\t 43.51\t 42.74\t 43.19\t 41.16\t 41.98\t 42.10\t 41.80\t 42.79\r\n",
      "2022-03-16\t 48.44\t 43.87\t 44.39\t 44.94\t 44.75\t 45.30\t 46.43\t 46.87\t 47.48\r\n",
      "2022-03-17\t 50.06\t 44.85\t 46.45\t 46.65\t 49.07\t 48.03\t 49.45\t 50.10\t 49.66\r\n",
      "2022-03-18\t 53.17\t 47.02\t 49.22\t 48.82\t 52.45\t 51.19\t 52.80\t 52.70\t 52.74\r\n",
      "2022-03-21\t 52.79\t 49.60\t 51.15\t 50.14\t 53.67\t 52.61\t 53.74\t 53.64\t 52.87\r\n",
      "2022-03-22\t 55.91\t 52.07\t 53.25\t 52.07\t 54.97\t 54.99\t 56.05\t 55.31\t 55.49\r\n",
      "2022-03-23\t 53.55\t 53.10\t 53.74\t 52.56\t 54.98\t 54.84\t 55.12\t 54.98\t 54.04\r\n",
      "2022-03-24\t 57.02\t 54.49\t 55.05\t 54.05\t 55.76\t 56.56\t 56.90\t 56.03\t 56.33\r\n",
      "2022-03-25\t 56.57\t 55.17\t 55.75\t 54.89\t 56.56\t 57.12\t 57.17\t 57.22\t 56.60\r\n"
     ]
    }
   ],
   "source": [
    "TSeries data = new();\n",
    "var history = await Yahoo.GetHistoricalAsync(\"TQQQ\", DateTime.Today.AddDays(-30), DateTime.Now, Period.Daily);\n",
    "SMA_Series sma = new(data, 5);\n",
    "WMA_Series wma = new(data, 5);\n",
    "EMA_Series ema = new(data, 5);\n",
    "HMA_Series hma = new(data, 5);\n",
    "DEMA_Series dema = new(data, 5);\n",
    "TEMA_Series tema = new(data, 5);\n",
    "ZLEMA_Series zlema = new(data, 5);\n",
    "JMA_Series jma = new(data, 5);\n",
    "\n",
    "Console.WriteLine($\"date\\t\\t Value\\t SMA\\t WMA\\t EMA\\t HMA\\t DEMA\\t TEMA \\tZLEMA \\tJMA\");\n",
    "foreach (var i in history) {\n",
    "    data.Add((i.DateTime,  (double)i.Close));\n",
    "\n",
    "    Console.WriteLine($\"{data[^1].t:yyyy-MM-dd}\\t {(double)data:f2}\\t {(double)sma:f2}\\t {(double)wma:f2}\\t {(double)ema:f2}\\t {(double)hma:f2}\\t {(double)dema:f2}\\t {(double)tema:f2}\\t {(double)zlema:f2}\\t {(double)jma:f2}\");\n",
    "}"
   ]
  }
 ],
 "metadata": {
  "kernelspec": {
   "display_name": ".NET (C#)",
   "language": "C#",
   "name": ".net-csharp"
  },
  "language_info": {
   "file_extension": ".cs",
   "mimetype": "text/x-csharp",
   "name": "C#",
   "pygments_lexer": "csharp",
   "version": "9.0"
  },
  "orig_nbformat": 4
 },
 "nbformat": 4,
 "nbformat_minor": 2
}
